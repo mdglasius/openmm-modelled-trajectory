{
 "cells": [
  {
   "cell_type": "markdown",
   "id": "6975ac4c",
   "metadata": {},
   "source": [
    "#Probing the surface of the Villin headpiece protein using an Ammonium ion\n",
    "\n",
    "This is an example of evaluating a pseudotrajectory created with molgri using this package."
   ]
  },
  {
   "cell_type": "code",
   "execution_count": 1,
   "id": "13ecdb0c-b403-4079-a04d-387a4ab23bf6",
   "metadata": {},
   "outputs": [
    {
     "data": {
      "application/vnd.jupyter.widget-view+json": {
       "model_id": "d6f066f4bc06404f9779fbb22d09cd4f",
       "version_major": 2,
       "version_minor": 0
      },
      "text/plain": []
     },
     "metadata": {},
     "output_type": "display_data"
    }
   ],
   "source": [
    "import sys\n",
    "sys.path.append('../') #workaround, need to add the module to a folder that is part of path?\n",
    "import numpy as np\n",
    "from tqdm import tqdm\n",
    "import nglview as nv\n",
    "import MDAnalysis as mda\n",
    "\n",
    "import modelledtrajectory as mtra\n"
   ]
  },
  {
   "cell_type": "markdown",
   "id": "60a373b3-32d0-4f4f-af22-36a7030cf42f",
   "metadata": {},
   "source": [
    "First we define the files needed for the calculations. The molgri pseudotrajectory has already been made and just needs to be loaded. For the probe we load an SDF file so the proper parameters can be found using the Amber general forcefield GAFF. \n",
    "\n"
   ]
  },
  {
   "cell_type": "code",
   "execution_count": 2,
   "id": "6cc3437d-df60-4889-a542-02d8e4f6aa3a",
   "metadata": {},
   "outputs": [
    {
     "name": "stderr",
     "output_type": "stream",
     "text": [
      "Warning: importing 'simtk.openmm' is deprecated.  Import 'openmm' instead.\n",
      "/home/mdglasius/anaconda3/lib/python3.9/site-packages/MDAnalysis/lib/mdamath.py:293: RuntimeWarning: invalid value encountered in double_scalars\n",
      "  alpha = np.rad2deg(np.arccos(np.dot(y, z) / (ly * lz)))\n",
      "/home/mdglasius/anaconda3/lib/python3.9/site-packages/MDAnalysis/lib/mdamath.py:294: RuntimeWarning: invalid value encountered in double_scalars\n",
      "  beta = np.rad2deg(np.arccos(np.dot(x, z) / (lx * lz)))\n",
      "/home/mdglasius/anaconda3/lib/python3.9/site-packages/MDAnalysis/lib/mdamath.py:295: RuntimeWarning: invalid value encountered in double_scalars\n",
      "  gamma = np.rad2deg(np.arccos(np.dot(x, y) / (lx * ly)))\n"
     ]
    }
   ],
   "source": [
    "fVillin = 'villin.pdb'\n",
    "fNH4 = 'Structure_NH4.sdf'\n",
    "fPT1 = 'villin_NH4_o_ico_256_b_zero_1_t_1422031497.gro'\n",
    "fPT2 = 'villin_NH4_o_ico_256_b_zero_1_t_1422031497.xtc'\n",
    "\n",
    "mt = mtra.ModelledTrajectory(fVillin, fNH4, fPT1, fPT2, \n",
    "                             forces=['amber/protein.ff14SB.xml', 'implicit/gbn2.xml'], \n",
    "                             nonbondedMethod='CutoffPeriodic', nonbondedCutoff = 2)\n"
   ]
  },
  {
   "cell_type": "markdown",
   "id": "468226b7-28da-401b-8d14-efb35ec684ff",
   "metadata": {},
   "source": [
    "The other parameters specify the parameter files for the forcefield that openMM should use to set up the simulation box, and settings for the nonbonded interactions that are also passed to the openMM system. We can now evaluate properties from the simulation box at each frame in the pseudotrajectory. For example, if we would want to know the potential energy at each frame we can loop over the entire trajectory:"
   ]
  },
  {
   "cell_type": "code",
   "execution_count": 3,
   "id": "8711c6d0-46c2-451d-beca-81d48860c701",
   "metadata": {},
   "outputs": [
    {
     "name": "stderr",
     "output_type": "stream",
     "text": [
      "  0%|                                                                                                                                                                 | 0/2048 [00:00<?, ?it/s]/home/mdglasius/anaconda3/lib/python3.9/site-packages/MDAnalysis/lib/mdamath.py:293: RuntimeWarning: invalid value encountered in double_scalars\n",
      "  alpha = np.rad2deg(np.arccos(np.dot(y, z) / (ly * lz)))\n",
      "/home/mdglasius/anaconda3/lib/python3.9/site-packages/MDAnalysis/lib/mdamath.py:294: RuntimeWarning: invalid value encountered in double_scalars\n",
      "  beta = np.rad2deg(np.arccos(np.dot(x, z) / (lx * lz)))\n",
      "/home/mdglasius/anaconda3/lib/python3.9/site-packages/MDAnalysis/lib/mdamath.py:295: RuntimeWarning: invalid value encountered in double_scalars\n",
      "  gamma = np.rad2deg(np.arccos(np.dot(x, y) / (lx * ly)))\n",
      "100%|██████████████████████████████████████████████████████████████████████████████████████████████████████████████████████████████████████████████████████| 2048/2048 [02:14<00:00, 15.18it/s]\n"
     ]
    }
   ],
   "source": [
    "potentials = np.zeros(len(mt))\n",
    "for i in tqdm(mt.frames()):\n",
    "    potentials[i] = mt.getPotentialEnergy()"
   ]
  },
  {
   "cell_type": "markdown",
   "id": "49105150-e4c5-4e3b-8ae0-ab58a4880c4d",
   "metadata": {},
   "source": [
    "Here the mt.frames() function returns an iterator that loops over the entire trajectory (the tqdm function is only used to provide a progress bar since this may take a few minutes). For each iteration the simulation box coordinates are set to those in the current frame of the trajectory. mt.getPotentialEnergy() then returns the current potential energy of the system. By using this iterator it is possible to take different steps and or readings per frame without looping over the entire trajectory for each one. \n",
    "\n",
    "Lets say we now want to do some measurements after a short minimization. Since we don't want to move to far from the initial gridpoint in the pseudotrajectory we would like to constrain the position of the protein backbone and the ammonium probe. We can start by selecting the ID's for the atoms that need to be restrained using MDAnalysis selection language:"
   ]
  },
  {
   "cell_type": "code",
   "execution_count": 4,
   "id": "d5695b6c-46e7-480e-98c8-c209275f45e5",
   "metadata": {},
   "outputs": [],
   "source": [
    "probe = mt.selectIDs('type N and not protein')\n",
    "backbone = mt.selectIDs('backbone')"
   ]
  },
  {
   "cell_type": "markdown",
   "id": "9c48bd83-6e2a-417a-88b7-45c3a429fe78",
   "metadata": {},
   "source": [
    "This selects the nitrogen in the probe and all the atoms that are considered backbone in the protein. In order to constrain these we can call the following function:"
   ]
  },
  {
   "cell_type": "code",
   "execution_count": 5,
   "id": "2a316556-abfa-4430-b464-0296469984d6",
   "metadata": {},
   "outputs": [],
   "source": [
    "mt.constrainAtoms(probe + backbone)"
   ]
  },
  {
   "cell_type": "markdown",
   "id": "b88b0947-c96a-4e46-8b18-0b0bffdba592",
   "metadata": {},
   "source": [
    "setting the masses of the selected atoms to 0 in the openMM simulation, causing their locations to become fixed. Note that setting these masses affects all frames of the trajectory, not just the current one. Since performing a minimization for each frame of the trajectory can take a while, we will instead select a number of the highest energy frames (that might need some minimization due to the probe and protein colliding) from the earlier list and see if the minimization affects those frames."
   ]
  },
  {
   "cell_type": "code",
   "execution_count": 6,
   "id": "5e312662-551f-4ed2-8231-f6e2f2d1ca75",
   "metadata": {},
   "outputs": [
    {
     "name": "stdout",
     "output_type": "stream",
     "text": [
      "[2008 1809 1608  992 1843 1585    3  161 1617 1536]\n"
     ]
    }
   ],
   "source": [
    "numFrames = 10\n",
    "highPotentialFrames = np.argsort(potentials)[-1:-numFrames-1:-1]\n",
    "print(highPotentialFrames)"
   ]
  },
  {
   "cell_type": "markdown",
   "id": "d45431b6-e208-409d-a1e0-622e86a7bc17",
   "metadata": {},
   "source": [
    "the mt.frames() function can be called with a list of integers as an argument. The resulting iterator will, instead of all frames, loop only over those specified in the argument, in the order they are specified in. Now we will perform the minimization for these frames, making sure to also store the coordinates before and after mimimization for comparison."
   ]
  },
  {
   "cell_type": "code",
   "execution_count": 7,
   "id": "1f1eb300-a028-4faf-8490-bf82be0935aa",
   "metadata": {},
   "outputs": [
    {
     "name": "stderr",
     "output_type": "stream",
     "text": [
      "100%|██████████████████████████████████████████████████████████████████████████████████████████████████████████████████████████████████████████████████████████| 10/10 [00:48<00:00,  4.81s/it]\n"
     ]
    }
   ],
   "source": [
    "minimizedPotentials = np.zeros(numFrames)\n",
    "for i in tqdm(mt.frames(highPotentialFrames)):\n",
    "    mt.pdbReporter('selected_pt.pdb')\n",
    "    mt.minimizeEnergy(maxIterations = 100)\n",
    "    minimizedPotentials[i] = mt.getPotentialEnergy()\n",
    "    mt.pdbReporter('minimized_pt.pdb')"
   ]
  },
  {
   "cell_type": "markdown",
   "id": "1c6f7eb7-98b1-4594-8ef3-2faf846e1e2f",
   "metadata": {},
   "source": [
    "mt.minimizeEnergy() passes its arguments directly to the openMM function of the same name. After minimization we simply extract the current potential energy of the box and store it in our array. Again, this is only done for a few frames to save time. If we wanted this for all frames in the trajectory, we could have these steps to the first loop where we evaluated the potential energy.\n",
    "\n",
    "Now lets first see the differences in energies before and after minimization:"
   ]
  },
  {
   "cell_type": "code",
   "execution_count": 8,
   "id": "f7359a55-b1a3-41f0-b6c2-b300386c3d52",
   "metadata": {},
   "outputs": [
    {
     "name": "stdout",
     "output_type": "stream",
     "text": [
      "frame: 2008 | pre:  5.969e+18 | post:  1.053e+06 | change: -5.969e+18\n",
      "frame: 1809 | pre:  2.390e+16 | post:  5.711e+06 | change: -2.390e+16\n",
      "frame: 1608 | pre:  1.075e+16 | post: -4.545e+03 | change: -1.075e+16\n",
      "frame:  992 | pre:  4.532e+15 | post:  2.301e+05 | change: -4.532e+15\n",
      "frame: 1843 | pre:  1.479e+15 | post:  8.041e+06 | change: -1.479e+15\n",
      "frame: 1585 | pre:  1.028e+15 | post: -6.599e+03 | change: -1.028e+15\n",
      "frame:    3 | pre:  5.796e+14 | post:  7.003e+11 | change: -5.789e+14\n",
      "frame:  161 | pre:  1.099e+14 | post: -6.569e+03 | change: -1.099e+14\n",
      "frame: 1617 | pre:  1.472e+13 | post:  6.934e+08 | change: -1.472e+13\n",
      "frame: 1536 | pre:  1.117e+13 | post:  1.299e+07 | change: -1.117e+13\n"
     ]
    }
   ],
   "source": [
    "for i in range(numFrames):\n",
    "    print('frame: {:=4} | pre: {:>-10.3e} | post: {:>-10.3e} | change: {:>-10.3e}'.format(highPotentialFrames[i], \n",
    "                                                         potentials[highPotentialFrames[i]], minimizedPotentials[i], \n",
    "                                                         minimizedPotentials[i]-potentials[highPotentialFrames[i]]))"
   ]
  },
  {
   "cell_type": "markdown",
   "id": "ec2fd7eb-8022-4305-87d7-cf214e3a868d",
   "metadata": {},
   "source": [
    "Now for a visual comparison:"
   ]
  },
  {
   "cell_type": "code",
   "execution_count": 9,
   "id": "f977111d-2200-43be-b8b7-af10ceeb1d17",
   "metadata": {},
   "outputs": [
    {
     "data": {
      "application/vnd.jupyter.widget-view+json": {
       "model_id": "d0ee5639f3574ec3b3bbc5095089698c",
       "version_major": 2,
       "version_minor": 0
      },
      "text/plain": [
       "NGLWidget(max_frame=9)"
      ]
     },
     "metadata": {},
     "output_type": "display_data"
    }
   ],
   "source": [
    "uBefore = mda.Universe('selected_pt.pdb')\n",
    "viewBefore = nv.show_mdanalysis(uBefore)\n",
    "viewBefore.add_licorice('sidechain or .CA')\n",
    "viewBefore.add_spacefill('not protein')\n",
    "viewBefore"
   ]
  },
  {
   "cell_type": "code",
   "execution_count": 10,
   "id": "b3c0e591-6026-4bb5-9dba-490890c403ed",
   "metadata": {},
   "outputs": [
    {
     "data": {
      "application/vnd.jupyter.widget-view+json": {
       "model_id": "795d18f8ba1b4590821a0ec01508e26b",
       "version_major": 2,
       "version_minor": 0
      },
      "text/plain": [
       "NGLWidget(max_frame=9)"
      ]
     },
     "metadata": {},
     "output_type": "display_data"
    }
   ],
   "source": [
    "uAfter = mda.Universe('minimized_pt.pdb')\n",
    "viewAfter = nv.show_mdanalysis(uBefore)\n",
    "viewAfter.add_licorice('sidechain or .CA')\n",
    "viewAfter.add_spacefill('not protein')\n",
    "viewAfter"
   ]
  },
  {
   "cell_type": "code",
   "execution_count": null,
   "id": "d1e49fe1-4332-4362-97b6-6b3e2942f832",
   "metadata": {},
   "outputs": [],
   "source": []
  }
 ],
 "metadata": {
  "kernelspec": {
   "display_name": "Python 3 (ipykernel)",
   "language": "python",
   "name": "python3"
  },
  "language_info": {
   "codemirror_mode": {
    "name": "ipython",
    "version": 3
   },
   "file_extension": ".py",
   "mimetype": "text/x-python",
   "name": "python",
   "nbconvert_exporter": "python",
   "pygments_lexer": "ipython3",
   "version": "3.9.16"
  }
 },
 "nbformat": 4,
 "nbformat_minor": 5
}
